{
  "nbformat": 4,
  "nbformat_minor": 0,
  "metadata": {
    "colab": {
      "provenance": [],
      "authorship_tag": "ABX9TyM25L4eLAISfQ2eemxdxHPI",
      "include_colab_link": true
    },
    "kernelspec": {
      "name": "python3",
      "display_name": "Python 3"
    },
    "language_info": {
      "name": "python"
    }
  },
  "cells": [
    {
      "cell_type": "markdown",
      "metadata": {
        "id": "view-in-github",
        "colab_type": "text"
      },
      "source": [
        "<a href=\"https://colab.research.google.com/github/asdfasdf0311/Optimal_location_selection/blob/main/00_MCLP_%EC%98%88%EC%A0%9C.ipynb\" target=\"_parent\"><img src=\"https://colab.research.google.com/assets/colab-badge.svg\" alt=\"Open In Colab\"/></a>"
      ]
    },
    {
      "cell_type": "code",
      "execution_count": null,
      "metadata": {
        "colab": {
          "base_uri": "https://localhost:8080/"
        },
        "id": "dtU5kA0mCbxq",
        "outputId": "896a1bc0-0c5c-49ac-8932-3bdfdc00b2c6"
      },
      "outputs": [
        {
          "output_type": "stream",
          "name": "stdout",
          "text": [
            "Requirement already satisfied: pandas in /usr/local/lib/python3.10/dist-packages (2.2.2)\n",
            "Requirement already satisfied: geopy in /usr/local/lib/python3.10/dist-packages (2.4.1)\n",
            "Collecting pulp\n",
            "  Downloading PuLP-2.9.0-py3-none-any.whl.metadata (5.4 kB)\n",
            "Requirement already satisfied: numpy>=1.22.4 in /usr/local/lib/python3.10/dist-packages (from pandas) (1.26.4)\n",
            "Requirement already satisfied: python-dateutil>=2.8.2 in /usr/local/lib/python3.10/dist-packages (from pandas) (2.8.2)\n",
            "Requirement already satisfied: pytz>=2020.1 in /usr/local/lib/python3.10/dist-packages (from pandas) (2024.2)\n",
            "Requirement already satisfied: tzdata>=2022.7 in /usr/local/lib/python3.10/dist-packages (from pandas) (2024.2)\n",
            "Requirement already satisfied: geographiclib<3,>=1.52 in /usr/local/lib/python3.10/dist-packages (from geopy) (2.0)\n",
            "Requirement already satisfied: six>=1.5 in /usr/local/lib/python3.10/dist-packages (from python-dateutil>=2.8.2->pandas) (1.16.0)\n",
            "Downloading PuLP-2.9.0-py3-none-any.whl (17.7 MB)\n",
            "\u001b[2K   \u001b[90m━━━━━━━━━━━━━━━━━━━━━━━━━━━━━━━━━━━━━━━━\u001b[0m \u001b[32m17.7/17.7 MB\u001b[0m \u001b[31m27.5 MB/s\u001b[0m eta \u001b[36m0:00:00\u001b[0m\n",
            "\u001b[?25hInstalling collected packages: pulp\n",
            "Successfully installed pulp-2.9.0\n"
          ]
        }
      ],
      "source": [
        "# 필요한 라이브러리 설치\n",
        "!pip install pandas geopy pulp\n",
        "\n",
        "# 라이브러리 임포트\n",
        "import pandas as pd\n",
        "from geopy.distance import geodesic\n",
        "import pulp"
      ]
    },
    {
      "cell_type": "markdown",
      "source": [
        "## 데이터 준비 및 전처리"
      ],
      "metadata": {
        "id": "_uAZ3cVQCldq"
      }
    },
    {
      "cell_type": "code",
      "source": [
        "# 예제 데이터 생성 (실제 데이터에 맞게 수정 필요)\n",
        "data = {\n",
        "    '버스정류장명': ['관설동 종점', '기업도시로', '의료기기종합지원센터', '누가베스트', '동부교사거리'],\n",
        "    '정류장번호': [10023, 10025, 10027, 10028, 10029],\n",
        "    '도로명주소': [None, None, None, None, None],\n",
        "    '지번주소': [\n",
        "        '강원특별자치도 원주시 관설동 309',\n",
        "        '강원특별자치도 원주시 지정면 가곡리 1482',\n",
        "        '강원특별자치도 원주시 지정면 가곡리 1322',\n",
        "        '강원특별자치도 원주시 지정면 가곡리 1320',\n",
        "        '강원특별자치도 원주시 단구동 1506'\n",
        "    ],\n",
        "    '위도': [37.300581, 37.372115, 37.370856, 37.370469, 37.318103],\n",
        "    '경도': [127.982576, 127.870087, 127.873331, 127.873924, 127.969723],\n",
        "    '기준일': ['2024-03-31'] * 5,\n",
        "    '인원': [702, 31, 26, 51, 204],\n",
        "    # 추가적인 기준 (예제 값)\n",
        "    'floating_population': [500, 300, 200, 400, 350],\n",
        "    'tourist_visit_ratio': [0.2, 0.1, 0.05, 0.15, 0.25],\n",
        "    'bus_ratio': [0.3, 0.2, 0.1, 0.25, 0.35]\n",
        "}\n",
        "\n",
        "df2 = pd.DataFrame(data)\n"
      ],
      "metadata": {
        "id": "yR5jzxbjCn2y"
      },
      "execution_count": null,
      "outputs": []
    },
    {
      "cell_type": "markdown",
      "source": [
        "## 거리 계산 및 커버리지 설정"
      ],
      "metadata": {
        "id": "MDE1WJ_0CuWU"
      }
    },
    {
      "cell_type": "code",
      "source": [
        "# 커버리지 반경 설정 (킬로미터 단위)\n",
        "coverage_radius = 0.4  # 400m\n",
        "\n",
        "# 모든 정류장 간 거리 계산 및 커버리지 설정\n",
        "# 각 정류장이 다른 정류장을 커버할 수 있는지 확인\n",
        "coverage = {}\n",
        "for i, row_i in df2.iterrows():\n",
        "    coverage[i] = []\n",
        "    loc_i = (row_i['위도'], row_i['경도'])\n",
        "    for j, row_j in df2.iterrows():\n",
        "        loc_j = (row_j['위도'], row_j['경도'])\n",
        "        distance = geodesic(loc_i, loc_j).kilometers\n",
        "        if distance <= coverage_radius:\n",
        "            coverage[i].append(j)\n"
      ],
      "metadata": {
        "id": "SC8jAWz7Cp99"
      },
      "execution_count": null,
      "outputs": []
    },
    {
      "cell_type": "markdown",
      "source": [
        "## 가중치 적용 및 점수 계산"
      ],
      "metadata": {
        "id": "wI-vv8vrCvsc"
      }
    },
    {
      "cell_type": "code",
      "source": [
        "# 가중치 설정\n",
        "weights = {\n",
        "    'population_density': 0.5993,\n",
        "    'floating_population': 0.1774,\n",
        "    'tourist_visit_ratio': 0.1031,\n",
        "    'bus_ratio': 0.1203\n",
        "}\n",
        "\n",
        "# 각 정류장의 점수 계산\n",
        "df2['score'] = (\n",
        "    df2['인원'] * weights['population_density'] +\n",
        "    df2['floating_population'] * weights['floating_population'] +\n",
        "    df2['tourist_visit_ratio'] * weights['tourist_visit_ratio'] +\n",
        "    df2['bus_ratio'] * weights['bus_ratio']\n",
        ")\n"
      ],
      "metadata": {
        "id": "IJjqosDsCyJQ"
      },
      "execution_count": null,
      "outputs": []
    },
    {
      "cell_type": "markdown",
      "source": [
        "## MCLP 모델 설정 및 해결"
      ],
      "metadata": {
        "id": "WLLQZMKUC2Iv"
      }
    },
    {
      "cell_type": "code",
      "source": [
        "# 최적화 모델 생성\n",
        "model = pulp.LpProblem(\"MCLP\", pulp.LpMaximize)\n",
        "\n",
        "# 의사결정 변수: 각 정류장이 시설으로 선택되는지 여부\n",
        "x = pulp.LpVariable.dicts('select', df2.index, cat='Binary')\n",
        "\n",
        "# 각 정류장이 커버되는지 여부\n",
        "y = pulp.LpVariable.dicts('cover', df2.index, cat='Binary')\n",
        "\n",
        "# 목표 함수: 커버되는 정류장의 점수 합 최대화\n",
        "model += pulp.lpSum([df2.loc[j, 'score'] * y[j] for j in df2.index])\n",
        "\n",
        "# 제약 조건 1: 선택할 시설의 수는 최대 k개\n",
        "k = 2  # 예: 최대 2개의 시설 선택\n",
        "model += pulp.lpSum([x[i] for i in df2.index]) <= k\n",
        "\n",
        "# 제약 조건 2: 각 정류장은 최소 하나의 커버리지를 가져야 함\n",
        "for j in df2.index:\n",
        "    model += y[j] <= pulp.lpSum([x[i] for i in coverage[i] if j in coverage[i]])\n",
        "    # Optional: y[j] can only be 1 if at least one covering facility is selected\n",
        "    # model += y[j] <= pulp.lpSum([x[i] for i in coverage[j]])\n",
        "\n",
        "# 모델 해결\n",
        "model.solve()\n",
        "\n",
        "# 결과 출력\n",
        "selected = [i for i in df2.index if pulp.value(x[i]) == 1]\n",
        "print(\"선택된 버스 정류장:\")\n",
        "print(df2.loc[selected, ['버스정류장명', '지번주소']])\n"
      ],
      "metadata": {
        "colab": {
          "base_uri": "https://localhost:8080/"
        },
        "id": "THWRL1hmC3El",
        "outputId": "8cbf8da2-020a-4a50-8d41-077c8406fe9c"
      },
      "execution_count": null,
      "outputs": [
        {
          "output_type": "stream",
          "name": "stdout",
          "text": [
            "선택된 버스 정류장:\n",
            "   버스정류장명                  지번주소\n",
            "4  동부교사거리  강원특별자치도 원주시 단구동 1506\n"
          ]
        }
      ]
    },
    {
      "cell_type": "markdown",
      "source": [
        "## 결과 시각화 및 해석"
      ],
      "metadata": {
        "id": "2JyzpiI9C9fz"
      }
    },
    {
      "cell_type": "code",
      "source": [
        "import folium\n",
        "\n",
        "# 지도 초기화 (원주시 중심으로 설정)\n",
        "center_location = [df2['위도'].mean(), df2['경도'].mean()]\n",
        "m = folium.Map(location=center_location, zoom_start=12)\n",
        "\n",
        "# 모든 정류장 표시\n",
        "for idx, row in df2.iterrows():\n",
        "    folium.CircleMarker(\n",
        "        location=(row['위도'], row['경도']),\n",
        "        radius=5,\n",
        "        color='blue',\n",
        "        fill=True,\n",
        "        fill_color='blue',\n",
        "        fill_opacity=0.6,\n",
        "        popup=row['버스정류장명']\n",
        "    ).add_to(m)\n",
        "\n",
        "# 선택된 정류장 강조 표시\n",
        "for idx in selected:\n",
        "    row = df2.loc[idx]\n",
        "    folium.Marker(\n",
        "        location=(row['위도'], row['경도']),\n",
        "        popup=row['버스정류장명'],\n",
        "        icon=folium.Icon(color='red', icon='info-sign')\n",
        "    ).add_to(m)\n",
        "\n",
        "# 지도 표시\n",
        "m\n"
      ],
      "metadata": {
        "colab": {
          "base_uri": "https://localhost:8080/",
          "height": 825
        },
        "id": "xokS90jTC--E",
        "outputId": "070c291d-84f2-427f-cda1-d0f725b09ea3"
      },
      "execution_count": null,
      "outputs": [
        {
          "output_type": "execute_result",
          "data": {
            "text/plain": [
              "<folium.folium.Map at 0x7e9de47e8760>"
            ],
            "text/html": [
              "<div style=\"width:100%;\"><div style=\"position:relative;width:100%;height:0;padding-bottom:60%;\"><span style=\"color:#565656\">Make this Notebook Trusted to load map: File -> Trust Notebook</span><iframe srcdoc=\"&lt;!DOCTYPE html&gt;\n",
              "&lt;html&gt;\n",
              "&lt;head&gt;\n",
              "    \n",
              "    &lt;meta http-equiv=&quot;content-type&quot; content=&quot;text/html; charset=UTF-8&quot; /&gt;\n",
              "    \n",
              "        &lt;script&gt;\n",
              "            L_NO_TOUCH = false;\n",
              "            L_DISABLE_3D = false;\n",
              "        &lt;/script&gt;\n",
              "    \n",
              "    &lt;style&gt;html, body {width: 100%;height: 100%;margin: 0;padding: 0;}&lt;/style&gt;\n",
              "    &lt;style&gt;#map {position:absolute;top:0;bottom:0;right:0;left:0;}&lt;/style&gt;\n",
              "    &lt;script src=&quot;https://cdn.jsdelivr.net/npm/leaflet@1.9.3/dist/leaflet.js&quot;&gt;&lt;/script&gt;\n",
              "    &lt;script src=&quot;https://code.jquery.com/jquery-3.7.1.min.js&quot;&gt;&lt;/script&gt;\n",
              "    &lt;script src=&quot;https://cdn.jsdelivr.net/npm/bootstrap@5.2.2/dist/js/bootstrap.bundle.min.js&quot;&gt;&lt;/script&gt;\n",
              "    &lt;script src=&quot;https://cdnjs.cloudflare.com/ajax/libs/Leaflet.awesome-markers/2.0.2/leaflet.awesome-markers.js&quot;&gt;&lt;/script&gt;\n",
              "    &lt;link rel=&quot;stylesheet&quot; href=&quot;https://cdn.jsdelivr.net/npm/leaflet@1.9.3/dist/leaflet.css&quot;/&gt;\n",
              "    &lt;link rel=&quot;stylesheet&quot; href=&quot;https://cdn.jsdelivr.net/npm/bootstrap@5.2.2/dist/css/bootstrap.min.css&quot;/&gt;\n",
              "    &lt;link rel=&quot;stylesheet&quot; href=&quot;https://netdna.bootstrapcdn.com/bootstrap/3.0.0/css/bootstrap-glyphicons.css&quot;/&gt;\n",
              "    &lt;link rel=&quot;stylesheet&quot; href=&quot;https://cdn.jsdelivr.net/npm/@fortawesome/fontawesome-free@6.2.0/css/all.min.css&quot;/&gt;\n",
              "    &lt;link rel=&quot;stylesheet&quot; href=&quot;https://cdnjs.cloudflare.com/ajax/libs/Leaflet.awesome-markers/2.0.2/leaflet.awesome-markers.css&quot;/&gt;\n",
              "    &lt;link rel=&quot;stylesheet&quot; href=&quot;https://cdn.jsdelivr.net/gh/python-visualization/folium/folium/templates/leaflet.awesome.rotate.min.css&quot;/&gt;\n",
              "    \n",
              "            &lt;meta name=&quot;viewport&quot; content=&quot;width=device-width,\n",
              "                initial-scale=1.0, maximum-scale=1.0, user-scalable=no&quot; /&gt;\n",
              "            &lt;style&gt;\n",
              "                #map_1eaeb2b3a54e5aa1cd77eb27d63bfce4 {\n",
              "                    position: relative;\n",
              "                    width: 100.0%;\n",
              "                    height: 100.0%;\n",
              "                    left: 0.0%;\n",
              "                    top: 0.0%;\n",
              "                }\n",
              "                .leaflet-container { font-size: 1rem; }\n",
              "            &lt;/style&gt;\n",
              "        \n",
              "&lt;/head&gt;\n",
              "&lt;body&gt;\n",
              "    \n",
              "    \n",
              "            &lt;div class=&quot;folium-map&quot; id=&quot;map_1eaeb2b3a54e5aa1cd77eb27d63bfce4&quot; &gt;&lt;/div&gt;\n",
              "        \n",
              "&lt;/body&gt;\n",
              "&lt;script&gt;\n",
              "    \n",
              "    \n",
              "            var map_1eaeb2b3a54e5aa1cd77eb27d63bfce4 = L.map(\n",
              "                &quot;map_1eaeb2b3a54e5aa1cd77eb27d63bfce4&quot;,\n",
              "                {\n",
              "                    center: [37.3464248, 127.91392820000002],\n",
              "                    crs: L.CRS.EPSG3857,\n",
              "                    zoom: 12,\n",
              "                    zoomControl: true,\n",
              "                    preferCanvas: false,\n",
              "                }\n",
              "            );\n",
              "\n",
              "            \n",
              "\n",
              "        \n",
              "    \n",
              "            var tile_layer_edb2162d8bc90dc0c76fcd26badd2a4e = L.tileLayer(\n",
              "                &quot;https://tile.openstreetmap.org/{z}/{x}/{y}.png&quot;,\n",
              "                {&quot;attribution&quot;: &quot;\\u0026copy; \\u003ca href=\\&quot;https://www.openstreetmap.org/copyright\\&quot;\\u003eOpenStreetMap\\u003c/a\\u003e contributors&quot;, &quot;detectRetina&quot;: false, &quot;maxNativeZoom&quot;: 19, &quot;maxZoom&quot;: 19, &quot;minZoom&quot;: 0, &quot;noWrap&quot;: false, &quot;opacity&quot;: 1, &quot;subdomains&quot;: &quot;abc&quot;, &quot;tms&quot;: false}\n",
              "            );\n",
              "        \n",
              "    \n",
              "            tile_layer_edb2162d8bc90dc0c76fcd26badd2a4e.addTo(map_1eaeb2b3a54e5aa1cd77eb27d63bfce4);\n",
              "        \n",
              "    \n",
              "            var circle_marker_69b6e1d0a931bc389c1f6491eacaca09 = L.circleMarker(\n",
              "                [37.300581, 127.982576],\n",
              "                {&quot;bubblingMouseEvents&quot;: true, &quot;color&quot;: &quot;blue&quot;, &quot;dashArray&quot;: null, &quot;dashOffset&quot;: null, &quot;fill&quot;: true, &quot;fillColor&quot;: &quot;blue&quot;, &quot;fillOpacity&quot;: 0.6, &quot;fillRule&quot;: &quot;evenodd&quot;, &quot;lineCap&quot;: &quot;round&quot;, &quot;lineJoin&quot;: &quot;round&quot;, &quot;opacity&quot;: 1.0, &quot;radius&quot;: 5, &quot;stroke&quot;: true, &quot;weight&quot;: 3}\n",
              "            ).addTo(map_1eaeb2b3a54e5aa1cd77eb27d63bfce4);\n",
              "        \n",
              "    \n",
              "        var popup_1b7ca9c1b33dfd14df3be2261299e9eb = L.popup({&quot;maxWidth&quot;: &quot;100%&quot;});\n",
              "\n",
              "        \n",
              "            \n",
              "                var html_34e6f8e88d6d62f8fafe05fe7431ac7b = $(`&lt;div id=&quot;html_34e6f8e88d6d62f8fafe05fe7431ac7b&quot; style=&quot;width: 100.0%; height: 100.0%;&quot;&gt;관설동 종점&lt;/div&gt;`)[0];\n",
              "                popup_1b7ca9c1b33dfd14df3be2261299e9eb.setContent(html_34e6f8e88d6d62f8fafe05fe7431ac7b);\n",
              "            \n",
              "        \n",
              "\n",
              "        circle_marker_69b6e1d0a931bc389c1f6491eacaca09.bindPopup(popup_1b7ca9c1b33dfd14df3be2261299e9eb)\n",
              "        ;\n",
              "\n",
              "        \n",
              "    \n",
              "    \n",
              "            var circle_marker_225e4248f00c1d426fc1e531b1e07c97 = L.circleMarker(\n",
              "                [37.372115, 127.870087],\n",
              "                {&quot;bubblingMouseEvents&quot;: true, &quot;color&quot;: &quot;blue&quot;, &quot;dashArray&quot;: null, &quot;dashOffset&quot;: null, &quot;fill&quot;: true, &quot;fillColor&quot;: &quot;blue&quot;, &quot;fillOpacity&quot;: 0.6, &quot;fillRule&quot;: &quot;evenodd&quot;, &quot;lineCap&quot;: &quot;round&quot;, &quot;lineJoin&quot;: &quot;round&quot;, &quot;opacity&quot;: 1.0, &quot;radius&quot;: 5, &quot;stroke&quot;: true, &quot;weight&quot;: 3}\n",
              "            ).addTo(map_1eaeb2b3a54e5aa1cd77eb27d63bfce4);\n",
              "        \n",
              "    \n",
              "        var popup_1c6e4c81d9f84869fbc30e0e3511348a = L.popup({&quot;maxWidth&quot;: &quot;100%&quot;});\n",
              "\n",
              "        \n",
              "            \n",
              "                var html_0b7c1601be24b65051b71c8ce9116cfb = $(`&lt;div id=&quot;html_0b7c1601be24b65051b71c8ce9116cfb&quot; style=&quot;width: 100.0%; height: 100.0%;&quot;&gt;기업도시로&lt;/div&gt;`)[0];\n",
              "                popup_1c6e4c81d9f84869fbc30e0e3511348a.setContent(html_0b7c1601be24b65051b71c8ce9116cfb);\n",
              "            \n",
              "        \n",
              "\n",
              "        circle_marker_225e4248f00c1d426fc1e531b1e07c97.bindPopup(popup_1c6e4c81d9f84869fbc30e0e3511348a)\n",
              "        ;\n",
              "\n",
              "        \n",
              "    \n",
              "    \n",
              "            var circle_marker_4f7fd9e5851075ad6010d22bc094bb22 = L.circleMarker(\n",
              "                [37.370856, 127.873331],\n",
              "                {&quot;bubblingMouseEvents&quot;: true, &quot;color&quot;: &quot;blue&quot;, &quot;dashArray&quot;: null, &quot;dashOffset&quot;: null, &quot;fill&quot;: true, &quot;fillColor&quot;: &quot;blue&quot;, &quot;fillOpacity&quot;: 0.6, &quot;fillRule&quot;: &quot;evenodd&quot;, &quot;lineCap&quot;: &quot;round&quot;, &quot;lineJoin&quot;: &quot;round&quot;, &quot;opacity&quot;: 1.0, &quot;radius&quot;: 5, &quot;stroke&quot;: true, &quot;weight&quot;: 3}\n",
              "            ).addTo(map_1eaeb2b3a54e5aa1cd77eb27d63bfce4);\n",
              "        \n",
              "    \n",
              "        var popup_b4104be64523d4f6b61ad8efc5c6fe3b = L.popup({&quot;maxWidth&quot;: &quot;100%&quot;});\n",
              "\n",
              "        \n",
              "            \n",
              "                var html_bd35dca1d6a4236137598230a3a73a6a = $(`&lt;div id=&quot;html_bd35dca1d6a4236137598230a3a73a6a&quot; style=&quot;width: 100.0%; height: 100.0%;&quot;&gt;의료기기종합지원센터&lt;/div&gt;`)[0];\n",
              "                popup_b4104be64523d4f6b61ad8efc5c6fe3b.setContent(html_bd35dca1d6a4236137598230a3a73a6a);\n",
              "            \n",
              "        \n",
              "\n",
              "        circle_marker_4f7fd9e5851075ad6010d22bc094bb22.bindPopup(popup_b4104be64523d4f6b61ad8efc5c6fe3b)\n",
              "        ;\n",
              "\n",
              "        \n",
              "    \n",
              "    \n",
              "            var circle_marker_b7f8341ed12788cf75c626d4ac863ca7 = L.circleMarker(\n",
              "                [37.370469, 127.873924],\n",
              "                {&quot;bubblingMouseEvents&quot;: true, &quot;color&quot;: &quot;blue&quot;, &quot;dashArray&quot;: null, &quot;dashOffset&quot;: null, &quot;fill&quot;: true, &quot;fillColor&quot;: &quot;blue&quot;, &quot;fillOpacity&quot;: 0.6, &quot;fillRule&quot;: &quot;evenodd&quot;, &quot;lineCap&quot;: &quot;round&quot;, &quot;lineJoin&quot;: &quot;round&quot;, &quot;opacity&quot;: 1.0, &quot;radius&quot;: 5, &quot;stroke&quot;: true, &quot;weight&quot;: 3}\n",
              "            ).addTo(map_1eaeb2b3a54e5aa1cd77eb27d63bfce4);\n",
              "        \n",
              "    \n",
              "        var popup_ca13618b9e16351b684e63305a4446b2 = L.popup({&quot;maxWidth&quot;: &quot;100%&quot;});\n",
              "\n",
              "        \n",
              "            \n",
              "                var html_b8bcd072b05abe05e33b0b0e1345915b = $(`&lt;div id=&quot;html_b8bcd072b05abe05e33b0b0e1345915b&quot; style=&quot;width: 100.0%; height: 100.0%;&quot;&gt;누가베스트&lt;/div&gt;`)[0];\n",
              "                popup_ca13618b9e16351b684e63305a4446b2.setContent(html_b8bcd072b05abe05e33b0b0e1345915b);\n",
              "            \n",
              "        \n",
              "\n",
              "        circle_marker_b7f8341ed12788cf75c626d4ac863ca7.bindPopup(popup_ca13618b9e16351b684e63305a4446b2)\n",
              "        ;\n",
              "\n",
              "        \n",
              "    \n",
              "    \n",
              "            var circle_marker_51de751cd72ae7d273111d53e10dc239 = L.circleMarker(\n",
              "                [37.318103, 127.969723],\n",
              "                {&quot;bubblingMouseEvents&quot;: true, &quot;color&quot;: &quot;blue&quot;, &quot;dashArray&quot;: null, &quot;dashOffset&quot;: null, &quot;fill&quot;: true, &quot;fillColor&quot;: &quot;blue&quot;, &quot;fillOpacity&quot;: 0.6, &quot;fillRule&quot;: &quot;evenodd&quot;, &quot;lineCap&quot;: &quot;round&quot;, &quot;lineJoin&quot;: &quot;round&quot;, &quot;opacity&quot;: 1.0, &quot;radius&quot;: 5, &quot;stroke&quot;: true, &quot;weight&quot;: 3}\n",
              "            ).addTo(map_1eaeb2b3a54e5aa1cd77eb27d63bfce4);\n",
              "        \n",
              "    \n",
              "        var popup_2393e781c920b087b49d2199df846678 = L.popup({&quot;maxWidth&quot;: &quot;100%&quot;});\n",
              "\n",
              "        \n",
              "            \n",
              "                var html_fcda7af9a6643962ead7f9c974c6353f = $(`&lt;div id=&quot;html_fcda7af9a6643962ead7f9c974c6353f&quot; style=&quot;width: 100.0%; height: 100.0%;&quot;&gt;동부교사거리&lt;/div&gt;`)[0];\n",
              "                popup_2393e781c920b087b49d2199df846678.setContent(html_fcda7af9a6643962ead7f9c974c6353f);\n",
              "            \n",
              "        \n",
              "\n",
              "        circle_marker_51de751cd72ae7d273111d53e10dc239.bindPopup(popup_2393e781c920b087b49d2199df846678)\n",
              "        ;\n",
              "\n",
              "        \n",
              "    \n",
              "    \n",
              "            var marker_5c22ea311bfa8fe2717a929efc57e948 = L.marker(\n",
              "                [37.318103, 127.969723],\n",
              "                {}\n",
              "            ).addTo(map_1eaeb2b3a54e5aa1cd77eb27d63bfce4);\n",
              "        \n",
              "    \n",
              "            var icon_4b9bf55fd112490899c7806e5eec6594 = L.AwesomeMarkers.icon(\n",
              "                {&quot;extraClasses&quot;: &quot;fa-rotate-0&quot;, &quot;icon&quot;: &quot;info-sign&quot;, &quot;iconColor&quot;: &quot;white&quot;, &quot;markerColor&quot;: &quot;red&quot;, &quot;prefix&quot;: &quot;glyphicon&quot;}\n",
              "            );\n",
              "            marker_5c22ea311bfa8fe2717a929efc57e948.setIcon(icon_4b9bf55fd112490899c7806e5eec6594);\n",
              "        \n",
              "    \n",
              "        var popup_9a8f41c2d98d40e396ec8e00c99110cb = L.popup({&quot;maxWidth&quot;: &quot;100%&quot;});\n",
              "\n",
              "        \n",
              "            \n",
              "                var html_ca711e038b05387e223aab49f0628a38 = $(`&lt;div id=&quot;html_ca711e038b05387e223aab49f0628a38&quot; style=&quot;width: 100.0%; height: 100.0%;&quot;&gt;동부교사거리&lt;/div&gt;`)[0];\n",
              "                popup_9a8f41c2d98d40e396ec8e00c99110cb.setContent(html_ca711e038b05387e223aab49f0628a38);\n",
              "            \n",
              "        \n",
              "\n",
              "        marker_5c22ea311bfa8fe2717a929efc57e948.bindPopup(popup_9a8f41c2d98d40e396ec8e00c99110cb)\n",
              "        ;\n",
              "\n",
              "        \n",
              "    \n",
              "&lt;/script&gt;\n",
              "&lt;/html&gt;\" style=\"position:absolute;width:100%;height:100%;left:0;top:0;border:none !important;\" allowfullscreen webkitallowfullscreen mozallowfullscreen></iframe></div></div>"
            ]
          },
          "metadata": {},
          "execution_count": 13
        }
      ]
    }
  ]
}